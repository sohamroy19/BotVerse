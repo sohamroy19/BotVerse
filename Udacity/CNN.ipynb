{
  "nbformat": 4,
  "nbformat_minor": 2,
  "metadata": {
    "colab": {
      "name": "CNNonnxTest.ipynb",
      "provenance": [],
      "collapsed_sections": [],
      "mount_file_id": "1G481tdhbjEhkplprywTlsh3UPYqBSg-n",
      "authorship_tag": "ABX9TyOI54yEr67NpWkErTodyRX3",
      "include_colab_link": true
    },
    "kernelspec": {
      "display_name": "Python 3",
      "name": "python3"
    },
    "language_info": {
      "name": "python"
    }
  },
  "cells": [
    {
      "cell_type": "markdown",
      "source": [
        "<a href=\"https://colab.research.google.com/github/sohamroy19/BotVerse/blob/udacity/CNN.ipynb\" target=\"_parent\"><img src=\"https://colab.research.google.com/assets/colab-badge.svg\" alt=\"Open In Colab\"/></a>"
      ],
      "metadata": {
        "id": "view-in-github",
        "colab_type": "text"
      }
    },
    {
      "cell_type": "markdown",
      "source": [
        "#init"
      ],
      "metadata": {
        "id": "aL95imm0xCkX"
      }
    },
    {
      "cell_type": "code",
      "execution_count": 1,
      "source": [
        "!pip install onnx onnxruntime"
      ],
      "outputs": [
        {
          "output_type": "stream",
          "name": "stdout",
          "text": [
            "Collecting onnx\n",
            "\u001b[?25l  Downloading https://files.pythonhosted.org/packages/38/57/65f48111f823df02da3e391b0b1aaadaf9972f8aa68ab3a41f46d59f57fe/onnx-1.8.1-cp37-cp37m-manylinux2010_x86_64.whl (14.5MB)\n",
            "\u001b[K     |████████████████████████████████| 14.5MB 288kB/s \n",
            "\u001b[?25hCollecting onnxruntime\n",
            "\u001b[?25l  Downloading https://files.pythonhosted.org/packages/0c/f0/666d6e3ceaa276a54e728f9972732e058544cbb6a3e1a778a8d6f87132c1/onnxruntime-1.7.0-cp37-cp37m-manylinux2014_x86_64.whl (4.1MB)\n",
            "\u001b[K     |████████████████████████████████| 4.1MB 42.6MB/s \n",
            "\u001b[?25hRequirement already satisfied: six in /usr/local/lib/python3.7/dist-packages (from onnx) (1.15.0)\n",
            "Requirement already satisfied: protobuf in /usr/local/lib/python3.7/dist-packages (from onnx) (3.12.4)\n",
            "Requirement already satisfied: numpy>=1.16.6 in /usr/local/lib/python3.7/dist-packages (from onnx) (1.19.5)\n",
            "Requirement already satisfied: typing-extensions>=3.6.2.1 in /usr/local/lib/python3.7/dist-packages (from onnx) (3.7.4.3)\n",
            "Requirement already satisfied: setuptools in /usr/local/lib/python3.7/dist-packages (from protobuf->onnx) (54.2.0)\n",
            "Installing collected packages: onnx, onnxruntime\n",
            "Successfully installed onnx-1.8.1 onnxruntime-1.7.0\n"
          ]
        }
      ],
      "metadata": {
        "colab": {
          "base_uri": "https://localhost:8080/"
        },
        "id": "nZEtHbGjOInQ",
        "outputId": "4f2c4017-285a-4ff7-c534-c213a0daabb8"
      }
    },
    {
      "cell_type": "code",
      "execution_count": 2,
      "source": [
        "import torch\r\n",
        "import numpy as np\r\n",
        "import matplotlib.pyplot as plt\r\n",
        "import torch.nn as nn\r\n",
        "import cv2\r\n",
        "import zipfile\r\n",
        "import pandas as pd\r\n",
        "import os\r\n",
        "\r\n",
        "%matplotlib inline\r\n",
        "\r\n",
        "from torchvision import transforms\r\n",
        "from torch.utils.data import random_split\r\n",
        "from torch.autograd import Variable\r\n",
        "from torch.optim import Adam, SGD\r\n",
        "from sklearn.model_selection import train_test_split\r\n",
        "import torch.onnx\r\n",
        "import onnx\r\n",
        "import onnxruntime"
      ],
      "outputs": [],
      "metadata": {
        "id": "cVqTOAe8uNsD"
      }
    },
    {
      "cell_type": "code",
      "execution_count": null,
      "source": [
        "from google.colab import files\r\n",
        "data = zipfile.ZipFile('drive/MyDrive/records.zip', 'r')\r\n",
        "data.extractall()\r\n",
        "data.printdir()"
      ],
      "outputs": [],
      "metadata": {
        "colab": {
          "base_uri": "https://localhost:8080/"
        },
        "id": "M26xW2Uz8N7o",
        "outputId": "28930e5d-f568-41c5-f950-9d34e03f2eda"
      }
    },
    {
      "cell_type": "markdown",
      "source": [
        "#main code"
      ],
      "metadata": {
        "id": "gHFakONJz8e1"
      }
    },
    {
      "cell_type": "markdown",
      "source": [
        "###load data"
      ],
      "metadata": {
        "id": "rw_fC2afpDfG"
      }
    },
    {
      "cell_type": "code",
      "execution_count": 69,
      "source": [
        "# data augmentation\r\n",
        "\r\n",
        "def choose_random(center, left, right, steering_angle):\r\n",
        "    \"\"\"\r\n",
        "    Randomly choose an image from the center, left or right, and adjust\r\n",
        "    the steering angle.\r\n",
        "    \"\"\"\r\n",
        "    choice = np.random.choice(3)\r\n",
        "    if choice == 0:\r\n",
        "        return cv2.imread(os.path.join(\"records/IMG\", left)), steering_angle + 0.2\r\n",
        "    elif choice == 1:\r\n",
        "        return cv2.imread(os.path.join(\"records/IMG\", right)), steering_angle - 0.2\r\n",
        "    return cv2.imread(os.path.join(\"records/IMG\", center)), steering_angle\r\n",
        "\r\n",
        "\r\n",
        "def random_flip(image, steering_angle):\r\n",
        "    \"\"\"\r\n",
        "    Randomly flipt the image left <-> right, and adjust the steering angle.\r\n",
        "    \"\"\"\r\n",
        "    if np.random.rand() < 0.5:\r\n",
        "        image = cv2.flip(image, 1)\r\n",
        "        steering_angle = -steering_angle\r\n",
        "    return image, steering_angle\r\n",
        "\r\n",
        "\r\n",
        "def random_translate(image, steering_angle, range_x, range_y):\r\n",
        "    \"\"\"\r\n",
        "    Randomly shift the image virtially and horizontally (translation).\r\n",
        "    \"\"\"\r\n",
        "    trans_x = range_x * (np.random.rand() - 0.5)\r\n",
        "    trans_y = range_y * (np.random.rand() - 0.5)\r\n",
        "    steering_angle += trans_x * 0.002\r\n",
        "    trans_m = np.float32([[1, 0, trans_x], [0, 1, trans_y]])\r\n",
        "    height, width = image.shape[:2]\r\n",
        "    image = cv2.warpAffine(image, trans_m, (width, height))\r\n",
        "    return image, steering_angle\r\n",
        "\r\n",
        "\r\n",
        "def random_shadow(image):\r\n",
        "    \"\"\"\r\n",
        "    Generates and adds random shadow\r\n",
        "    \"\"\"\r\n",
        "    # (x1, y1) and (x2, y2) forms a line\r\n",
        "    # xm, ym gives all the locations of the image\r\n",
        "    x1, y1 = 320 * np.random.rand(), 0\r\n",
        "    x2, y2 = 320 * np.random.rand(), 160\r\n",
        "    xm, ym = np.mgrid[0:160, 0:320]\r\n",
        "\r\n",
        "    # mathematically speaking, we want to set 1 below the line and zero otherwise\r\n",
        "    # Our coordinate is up side down.  So, the above the line: \r\n",
        "    # (ym-y1)/(xm-x1) > (y2-y1)/(x2-x1)\r\n",
        "    # as x2 == x1 causes zero-division problem, we'll write it in the below form:\r\n",
        "    # (ym-y1)*(x2-x1) - (y2-y1)*(xm-x1) > 0\r\n",
        "    mask = np.zeros_like(image[:, :, 1])\r\n",
        "    mask[(ym - y1) * (x2 - x1) - (y2 - y1) * (xm - x1) > 0] = 1\r\n",
        "\r\n",
        "    # choose which side should have shadow and adjust saturation\r\n",
        "    cond = mask == np.random.randint(2)\r\n",
        "    s_ratio = np.random.uniform(low=0.2, high=0.5)\r\n",
        "\r\n",
        "    # adjust Saturation in HLS(Hue, Light, Saturation)\r\n",
        "    hls = cv2.cvtColor(image, cv2.COLOR_RGB2HLS)\r\n",
        "    hls[:, :, 1][cond] = hls[:, :, 1][cond] * s_ratio\r\n",
        "    return cv2.cvtColor(hls, cv2.COLOR_HLS2RGB)\r\n",
        "\r\n",
        "\r\n",
        "def random_brightness(image):\r\n",
        "    \"\"\"\r\n",
        "    Randomly adjust brightness of the image.\r\n",
        "    \"\"\"\r\n",
        "    # HSV (Hue, Saturation, Value) is also called HSB ('B' for Brightness).\r\n",
        "    hsv = cv2.cvtColor(image, cv2.COLOR_RGB2HSV)\r\n",
        "    ratio = 1.0 + 0.4 * (np.random.rand() - 0.5)\r\n",
        "    hsv[:,:,2] =  hsv[:,:,2] * ratio\r\n",
        "    return cv2.cvtColor(hsv, cv2.COLOR_HSV2RGB)\r\n",
        "\r\n",
        "\r\n",
        "def preprocess(image):\r\n",
        "    image = image[40:-16, :, :] # remove the sky and the car front\r\n",
        "    image = cv2.resize(image, (200, 66), cv2.INTER_AREA)\r\n",
        "    #image = cv2.cvtColor(image, cv2.COLOR_RGB2YUV).transpose(-1, 0, 1)\r\n",
        "    image = cv2.cvtColor(image, cv2.COLOR_BGR2YUV).transpose(-1, 0, 1)\r\n",
        "    return image\r\n",
        "\r\n",
        "\r\n",
        "def augment(image, steering_angle, range_x=100, range_y=10):\r\n",
        "    \"\"\"\r\n",
        "    Generate an augumented image and adjust steering angle.\r\n",
        "    (The steering angle is associated with the center image)\r\n",
        "    \"\"\"\r\n",
        "    center, left, right = image\r\n",
        "    if np.random.rand() < 0.6:\r\n",
        "      image, steering_angle = choose_random(center, left, right, steering_angle)\r\n",
        "      image, steering_angle = random_flip(image, steering_angle)\r\n",
        "      image, steering_angle = random_translate(image, steering_angle, range_x, range_y)\r\n",
        "      image = random_shadow(image)\r\n",
        "      image = random_brightness(image)\r\n",
        "    else:\r\n",
        "      image = cv2.imread(os.path.join(\"records/IMG\", center))\r\n",
        "    image = preprocess(image)\r\n",
        "    return image, np.array([steering_angle])"
      ],
      "outputs": [],
      "metadata": {
        "id": "aHFvySk8MEgc"
      }
    },
    {
      "cell_type": "code",
      "execution_count": 70,
      "source": [
        "data = pd.read_csv(\"records/log.csv\")\r\n",
        "images = data[['center', 'left', 'right']].values\r\n",
        "angles = data['angle'].values\r\n",
        "del(data)\r\n",
        "\r\n",
        "# keep one for arbitrary checking\r\n",
        "img, angle = augment(images[300], angles[300])\r\n",
        "checker = [img, angle]"
      ],
      "outputs": [],
      "metadata": {
        "id": "chf4X134EMd6"
      }
    },
    {
      "cell_type": "markdown",
      "source": [
        "###build model"
      ],
      "metadata": {
        "id": "9uOWbeN1pJLl"
      }
    },
    {
      "cell_type": "code",
      "execution_count": 71,
      "source": [
        "class MyModel(nn.Module):\r\n",
        "    def __init__(self):\r\n",
        "        super(MyModel, self).__init__()\r\n",
        "        self.layers = nn.Sequential(\r\n",
        "            nn.Conv2d(3, 24, kernel_size=5, stride=2),\r\n",
        "            nn.ELU(inplace=True),\r\n",
        "            nn.Conv2d(24, 36, kernel_size=5, stride=2),\r\n",
        "            nn.ELU(inplace=True),\r\n",
        "            nn.Conv2d(36, 48, kernel_size=5, stride=2),\r\n",
        "            nn.ELU(inplace=True),\r\n",
        "            nn.Conv2d(48, 64, kernel_size=3, stride=1),\r\n",
        "            nn.ELU(inplace=True),\r\n",
        "            nn.Conv2d(64, 64, kernel_size=3, stride=1),\r\n",
        "            nn.ELU(inplace=True),\r\n",
        "\r\n",
        "            nn.Dropout(p=0.5),\r\n",
        "            nn.Flatten(),\r\n",
        "\r\n",
        "            nn.Linear(1152, 100),\r\n",
        "            nn.ELU(inplace=True),\r\n",
        "            nn.Linear(100, 50),\r\n",
        "            nn.ELU(inplace=True),\r\n",
        "            nn.Linear(50, 10),\r\n",
        "            nn.ELU(inplace=True),\r\n",
        "            nn.Linear(10, 1)\r\n",
        "        )\r\n",
        "        \r\n",
        "    def forward(self, x):\r\n",
        "        x = x/127.5 - 1.0\r\n",
        "        x = self.layers(x)\r\n",
        "        return x\r\n",
        "\r\n",
        "model = MyModel()"
      ],
      "outputs": [],
      "metadata": {
        "id": "hw67HPK7v4rv"
      }
    },
    {
      "cell_type": "code",
      "execution_count": 72,
      "source": [
        "# Defining the optimizer\r\n",
        "optimizer = Adam(model.parameters(), lr=1.0e-4)\r\n",
        "# Defining the loss function\r\n",
        "criterion = torch.nn.MSELoss()\r\n",
        "    \r\n",
        "print(model)"
      ],
      "outputs": [
        {
          "output_type": "stream",
          "name": "stdout",
          "text": [
            "MyModel(\n",
            "  (layers): Sequential(\n",
            "    (0): Conv2d(3, 24, kernel_size=(5, 5), stride=(2, 2))\n",
            "    (1): ELU(alpha=1.0, inplace=True)\n",
            "    (2): Conv2d(24, 36, kernel_size=(5, 5), stride=(2, 2))\n",
            "    (3): ELU(alpha=1.0, inplace=True)\n",
            "    (4): Conv2d(36, 48, kernel_size=(5, 5), stride=(2, 2))\n",
            "    (5): ELU(alpha=1.0, inplace=True)\n",
            "    (6): Conv2d(48, 64, kernel_size=(3, 3), stride=(1, 1))\n",
            "    (7): ELU(alpha=1.0, inplace=True)\n",
            "    (8): Conv2d(64, 64, kernel_size=(3, 3), stride=(1, 1))\n",
            "    (9): ELU(alpha=1.0, inplace=True)\n",
            "    (10): Dropout(p=0.5, inplace=False)\n",
            "    (11): Flatten(start_dim=1, end_dim=-1)\n",
            "    (12): Linear(in_features=1152, out_features=100, bias=True)\n",
            "    (13): ELU(alpha=1.0, inplace=True)\n",
            "    (14): Linear(in_features=100, out_features=50, bias=True)\n",
            "    (15): ELU(alpha=1.0, inplace=True)\n",
            "    (16): Linear(in_features=50, out_features=10, bias=True)\n",
            "    (17): ELU(alpha=1.0, inplace=True)\n",
            "    (18): Linear(in_features=10, out_features=1, bias=True)\n",
            "  )\n",
            ")\n"
          ]
        }
      ],
      "metadata": {
        "id": "dQohLZpfv493",
        "colab": {
          "base_uri": "https://localhost:8080/"
        },
        "outputId": "30816672-af0b-4e7b-ebd7-c455979e4d40"
      }
    },
    {
      "cell_type": "code",
      "execution_count": 73,
      "source": [
        "def train(epoch):\r\n",
        "    train_losses.clear()\r\n",
        "    val_losses.clear()\r\n",
        "\r\n",
        "    model.train()\r\n",
        "    tr_loss = 0\r\n",
        "\r\n",
        "    # Clearing the Gradients of the model parameters\r\n",
        "    optimizer.zero_grad()\r\n",
        "    \r\n",
        "    train_x, train_y = [], []\r\n",
        "    # Prediction for training and validation set\r\n",
        "    for i in range(len(angles)):\r\n",
        "      '''\r\n",
        "      img = cv2.imread(os.path.join(\"records/IMG\", images[i]))\r\n",
        "      img, ang = augment(img, angles[i])\r\n",
        "      img = img[40:-16, :, :] # remove the sky and the car front\r\n",
        "      img = cv2.resize(img, (200, 66), cv2.INTER_AREA)\r\n",
        "      img = cv2.cvtColor(img, cv2.COLOR_RGB2YUV).transpose(-1, 0, 1)\r\n",
        "      '''\r\n",
        "      img, ang = augment(images[i], angles[i])\r\n",
        "\r\n",
        "      train_x.append(img)\r\n",
        "      train_y.append(ang)\r\n",
        "      if i % 100 == 99:\r\n",
        "        train_x, val_x, train_y, val_y = train_test_split(train_x, train_y, test_size = 0.2)\r\n",
        "        output_train = model(torch.Tensor(train_x))\r\n",
        "        output_val = model(torch.Tensor(val_x))\r\n",
        "\r\n",
        "        # Computing the training and validation loss\r\n",
        "        loss_train = criterion(output_train, torch.Tensor(train_y))\r\n",
        "        loss_val = criterion(output_val, torch.Tensor(val_y))\r\n",
        "        train_losses.append(loss_train)\r\n",
        "        val_losses.append(loss_val)\r\n",
        "        del(train_x)\r\n",
        "        del(train_y)\r\n",
        "        train_x, train_y = [], []\r\n",
        "\r\n",
        "        # Computing the updated weights of all the model parameters\r\n",
        "        loss_train.backward()\r\n",
        "        optimizer.step()\r\n",
        "        tr_loss = loss_train.item()\r\n",
        "      \r\n",
        "        print('Epoch : ', epoch+1, '\\t', 'Batch : ', (i//100)+1, '\\t', 'loss :', loss_val.item())"
      ],
      "outputs": [],
      "metadata": {
        "id": "ruswO-Zdv9sl"
      }
    },
    {
      "cell_type": "markdown",
      "source": [
        "###train model"
      ],
      "metadata": {
        "id": "kbKU56VxpM8W"
      }
    },
    {
      "cell_type": "code",
      "execution_count": null,
      "source": [
        "# Defining the number of epochs\r\n",
        "n_epochs = 20\r\n",
        "# Empty list to store training losses\r\n",
        "train_losses = []\r\n",
        "# Empty list to store validation losses\r\n",
        "val_losses = []\r\n",
        "\r\n",
        "# Training the model\r\n",
        "for epoch in range(n_epochs):\r\n",
        "    train(epoch)\r\n",
        "    if epoch % 5 == 0:\r\n",
        "      torch.save(model, 'cnn.pt')"
      ],
      "outputs": [
        {
          "output_type": "stream",
          "name": "stdout",
          "text": [
            "Epoch :  1 \t Batch :  1 \t loss : 0.08065859228372574\n",
            "Epoch :  1 \t Batch :  2 \t loss : 0.07808537781238556\n",
            "Epoch :  1 \t Batch :  3 \t loss : 0.08267079293727875\n",
            "Epoch :  1 \t Batch :  4 \t loss : 0.08222750574350357\n",
            "Epoch :  1 \t Batch :  5 \t loss : 0.08671261370182037\n",
            "Epoch :  1 \t Batch :  6 \t loss : 0.0901816338300705\n",
            "Epoch :  1 \t Batch :  7 \t loss : 0.055445969104766846\n",
            "Epoch :  1 \t Batch :  8 \t loss : 0.040992435067892075\n",
            "Epoch :  1 \t Batch :  9 \t loss : 0.12487276643514633\n",
            "Epoch :  1 \t Batch :  10 \t loss : 0.10793670266866684\n",
            "Epoch :  1 \t Batch :  11 \t loss : 0.14727230370044708\n",
            "Epoch :  1 \t Batch :  12 \t loss : 0.06935439258813858\n",
            "Epoch :  1 \t Batch :  13 \t loss : 0.07636778801679611\n",
            "Epoch :  1 \t Batch :  14 \t loss : 0.017920449376106262\n",
            "Epoch :  1 \t Batch :  15 \t loss : 0.03677983582019806\n",
            "Epoch :  1 \t Batch :  16 \t loss : 0.03270125761628151\n",
            "Epoch :  1 \t Batch :  17 \t loss : 0.03266984224319458\n",
            "Epoch :  1 \t Batch :  18 \t loss : 0.06708614528179169\n",
            "Epoch :  1 \t Batch :  19 \t loss : 0.03597084432840347\n",
            "Epoch :  1 \t Batch :  20 \t loss : 0.023640919476747513\n",
            "Epoch :  1 \t Batch :  21 \t loss : 0.16375887393951416\n",
            "Epoch :  1 \t Batch :  22 \t loss : 0.07357560098171234\n",
            "Epoch :  1 \t Batch :  23 \t loss : 0.12071404606103897\n",
            "Epoch :  1 \t Batch :  24 \t loss : 0.1088898554444313\n",
            "Epoch :  1 \t Batch :  25 \t loss : 0.12350839376449585\n",
            "Epoch :  1 \t Batch :  26 \t loss : 0.038550764322280884\n",
            "Epoch :  1 \t Batch :  27 \t loss : 0.021088551729917526\n",
            "Epoch :  1 \t Batch :  28 \t loss : 0.019730117172002792\n",
            "Epoch :  1 \t Batch :  29 \t loss : 0.028262441977858543\n",
            "Epoch :  1 \t Batch :  30 \t loss : 0.031097957864403725\n",
            "Epoch :  1 \t Batch :  31 \t loss : 0.028964389115571976\n",
            "Epoch :  1 \t Batch :  32 \t loss : 0.019370226189494133\n",
            "Epoch :  1 \t Batch :  33 \t loss : 0.048526935279369354\n",
            "Epoch :  1 \t Batch :  34 \t loss : 0.022500116378068924\n",
            "Epoch :  1 \t Batch :  35 \t loss : 0.06529100239276886\n",
            "Epoch :  1 \t Batch :  36 \t loss : 0.1271643489599228\n",
            "Epoch :  1 \t Batch :  37 \t loss : 0.04705440253019333\n",
            "Epoch :  1 \t Batch :  38 \t loss : 0.03787796199321747\n",
            "Epoch :  1 \t Batch :  39 \t loss : 0.023256393149495125\n",
            "Epoch :  1 \t Batch :  40 \t loss : 0.0333796963095665\n",
            "Epoch :  1 \t Batch :  41 \t loss : 0.037128858268260956\n",
            "Epoch :  1 \t Batch :  42 \t loss : 0.03452081233263016\n",
            "Epoch :  1 \t Batch :  43 \t loss : 0.033822037279605865\n",
            "Epoch :  1 \t Batch :  44 \t loss : 0.036871735006570816\n",
            "Epoch :  1 \t Batch :  45 \t loss : 0.04424077272415161\n",
            "Epoch :  2 \t Batch :  1 \t loss : 0.019217688590288162\n",
            "Epoch :  2 \t Batch :  2 \t loss : 0.015930883586406708\n",
            "Epoch :  2 \t Batch :  3 \t loss : 0.013766597025096416\n",
            "Epoch :  2 \t Batch :  4 \t loss : 0.019672198221087456\n",
            "Epoch :  2 \t Batch :  5 \t loss : 0.016293713822960854\n",
            "Epoch :  2 \t Batch :  6 \t loss : 0.039991069585084915\n",
            "Epoch :  2 \t Batch :  7 \t loss : 0.0173073448240757\n",
            "Epoch :  2 \t Batch :  8 \t loss : 0.015827946364879608\n",
            "Epoch :  2 \t Batch :  9 \t loss : 0.07921377569437027\n",
            "Epoch :  2 \t Batch :  10 \t loss : 0.03166425973176956\n",
            "Epoch :  2 \t Batch :  11 \t loss : 0.016688354313373566\n",
            "Epoch :  2 \t Batch :  12 \t loss : 0.06691184639930725\n",
            "Epoch :  2 \t Batch :  13 \t loss : 0.05711858347058296\n",
            "Epoch :  2 \t Batch :  14 \t loss : 0.038970597088336945\n",
            "Epoch :  2 \t Batch :  15 \t loss : 0.03540751338005066\n",
            "Epoch :  2 \t Batch :  16 \t loss : 0.041175950318574905\n",
            "Epoch :  2 \t Batch :  17 \t loss : 0.04322299733757973\n",
            "Epoch :  2 \t Batch :  18 \t loss : 0.09299036115407944\n",
            "Epoch :  2 \t Batch :  19 \t loss : 0.03791291266679764\n",
            "Epoch :  2 \t Batch :  20 \t loss : 0.04594538360834122\n",
            "Epoch :  2 \t Batch :  21 \t loss : 0.13663989305496216\n",
            "Epoch :  2 \t Batch :  22 \t loss : 0.10298198461532593\n",
            "Epoch :  2 \t Batch :  23 \t loss : 0.13035166263580322\n",
            "Epoch :  2 \t Batch :  24 \t loss : 0.07492055743932724\n",
            "Epoch :  2 \t Batch :  25 \t loss : 0.061264973133802414\n",
            "Epoch :  2 \t Batch :  26 \t loss : 0.02413242682814598\n",
            "Epoch :  2 \t Batch :  27 \t loss : 0.026004862040281296\n",
            "Epoch :  2 \t Batch :  28 \t loss : 0.015516472049057484\n",
            "Epoch :  2 \t Batch :  29 \t loss : 0.03894955664873123\n",
            "Epoch :  2 \t Batch :  30 \t loss : 0.05474621057510376\n",
            "Epoch :  2 \t Batch :  31 \t loss : 0.03452133387327194\n",
            "Epoch :  2 \t Batch :  32 \t loss : 0.04134786128997803\n",
            "Epoch :  2 \t Batch :  33 \t loss : 0.04448577016592026\n",
            "Epoch :  2 \t Batch :  34 \t loss : 0.07560397684574127\n",
            "Epoch :  2 \t Batch :  35 \t loss : 0.06726179271936417\n",
            "Epoch :  2 \t Batch :  36 \t loss : 0.17275884747505188\n",
            "Epoch :  2 \t Batch :  37 \t loss : 0.09130654484033585\n",
            "Epoch :  2 \t Batch :  38 \t loss : 0.0842885971069336\n",
            "Epoch :  2 \t Batch :  39 \t loss : 0.11063563823699951\n",
            "Epoch :  2 \t Batch :  40 \t loss : 0.08733902126550674\n",
            "Epoch :  2 \t Batch :  41 \t loss : 0.07957682758569717\n",
            "Epoch :  2 \t Batch :  42 \t loss : 0.0847056582570076\n",
            "Epoch :  2 \t Batch :  43 \t loss : 0.07824306190013885\n",
            "Epoch :  2 \t Batch :  44 \t loss : 0.05168847367167473\n",
            "Epoch :  2 \t Batch :  45 \t loss : 0.06154901534318924\n",
            "Epoch :  3 \t Batch :  1 \t loss : 0.04231838136911392\n",
            "Epoch :  3 \t Batch :  2 \t loss : 0.05410941317677498\n",
            "Epoch :  3 \t Batch :  3 \t loss : 0.044151775538921356\n",
            "Epoch :  3 \t Batch :  4 \t loss : 0.04540518298745155\n",
            "Epoch :  3 \t Batch :  5 \t loss : 0.0709935873746872\n",
            "Epoch :  3 \t Batch :  6 \t loss : 0.05274716019630432\n",
            "Epoch :  3 \t Batch :  7 \t loss : 0.0567660853266716\n",
            "Epoch :  3 \t Batch :  8 \t loss : 0.03592311218380928\n",
            "Epoch :  3 \t Batch :  9 \t loss : 0.03641161322593689\n",
            "Epoch :  3 \t Batch :  10 \t loss : 0.15437957644462585\n",
            "Epoch :  3 \t Batch :  11 \t loss : 0.06239372491836548\n",
            "Epoch :  3 \t Batch :  12 \t loss : 0.06596453487873077\n",
            "Epoch :  3 \t Batch :  13 \t loss : 0.08155441284179688\n",
            "Epoch :  3 \t Batch :  14 \t loss : 0.04023243486881256\n",
            "Epoch :  3 \t Batch :  15 \t loss : 0.0817679613828659\n",
            "Epoch :  3 \t Batch :  16 \t loss : 0.03804052621126175\n",
            "Epoch :  3 \t Batch :  17 \t loss : 0.06890764087438583\n",
            "Epoch :  3 \t Batch :  18 \t loss : 0.07068556547164917\n",
            "Epoch :  3 \t Batch :  19 \t loss : 0.040004562586545944\n",
            "Epoch :  3 \t Batch :  20 \t loss : 0.02583889290690422\n",
            "Epoch :  3 \t Batch :  21 \t loss : 0.13074025511741638\n",
            "Epoch :  3 \t Batch :  22 \t loss : 0.023440705612301826\n",
            "Epoch :  3 \t Batch :  23 \t loss : 0.0523223802447319\n",
            "Epoch :  3 \t Batch :  24 \t loss : 0.0812784880399704\n",
            "Epoch :  3 \t Batch :  25 \t loss : 0.03452300652861595\n",
            "Epoch :  3 \t Batch :  26 \t loss : 0.02386777475476265\n",
            "Epoch :  3 \t Batch :  27 \t loss : 0.02400558814406395\n",
            "Epoch :  3 \t Batch :  28 \t loss : 0.014368060044944286\n",
            "Epoch :  3 \t Batch :  29 \t loss : 0.021937113255262375\n",
            "Epoch :  3 \t Batch :  30 \t loss : 0.04134282469749451\n",
            "Epoch :  3 \t Batch :  31 \t loss : 0.024926109239459038\n",
            "Epoch :  3 \t Batch :  32 \t loss : 0.028979932889342308\n",
            "Epoch :  3 \t Batch :  33 \t loss : 0.05586471036076546\n",
            "Epoch :  3 \t Batch :  34 \t loss : 0.08427537977695465\n",
            "Epoch :  3 \t Batch :  35 \t loss : 0.050396375358104706\n",
            "Epoch :  3 \t Batch :  36 \t loss : 0.025661390274763107\n",
            "Epoch :  3 \t Batch :  37 \t loss : 0.0614943690598011\n",
            "Epoch :  3 \t Batch :  38 \t loss : 0.0327858105301857\n",
            "Epoch :  3 \t Batch :  39 \t loss : 0.0561160072684288\n",
            "Epoch :  3 \t Batch :  40 \t loss : 0.051042091101408005\n",
            "Epoch :  3 \t Batch :  41 \t loss : 0.07398922741413116\n",
            "Epoch :  3 \t Batch :  42 \t loss : 0.05899491161108017\n",
            "Epoch :  3 \t Batch :  43 \t loss : 0.048793695867061615\n",
            "Epoch :  3 \t Batch :  44 \t loss : 0.03257156163454056\n",
            "Epoch :  3 \t Batch :  45 \t loss : 0.0253224465996027\n",
            "Epoch :  4 \t Batch :  1 \t loss : 0.02850247360765934\n",
            "Epoch :  4 \t Batch :  2 \t loss : 0.025285881012678146\n",
            "Epoch :  4 \t Batch :  3 \t loss : 0.03310375660657883\n",
            "Epoch :  4 \t Batch :  4 \t loss : 0.018064701929688454\n",
            "Epoch :  4 \t Batch :  5 \t loss : 0.019979018718004227\n",
            "Epoch :  4 \t Batch :  6 \t loss : 0.040864598006010056\n",
            "Epoch :  4 \t Batch :  7 \t loss : 0.013070794753730297\n",
            "Epoch :  4 \t Batch :  8 \t loss : 0.027336526662111282\n",
            "Epoch :  4 \t Batch :  9 \t loss : 0.04489748552441597\n",
            "Epoch :  4 \t Batch :  10 \t loss : 0.03501786291599274\n",
            "Epoch :  4 \t Batch :  11 \t loss : 0.07421235740184784\n",
            "Epoch :  4 \t Batch :  12 \t loss : 0.08309916406869888\n",
            "Epoch :  4 \t Batch :  13 \t loss : 0.04386473447084427\n",
            "Epoch :  4 \t Batch :  14 \t loss : 0.033856190741062164\n",
            "Epoch :  4 \t Batch :  15 \t loss : 0.03709106147289276\n",
            "Epoch :  4 \t Batch :  16 \t loss : 0.030965784564614296\n",
            "Epoch :  4 \t Batch :  17 \t loss : 0.034800875931978226\n",
            "Epoch :  4 \t Batch :  18 \t loss : 0.02531088888645172\n",
            "Epoch :  4 \t Batch :  19 \t loss : 0.02057379111647606\n",
            "Epoch :  4 \t Batch :  20 \t loss : 0.03477043658494949\n",
            "Epoch :  4 \t Batch :  21 \t loss : 0.05994375795125961\n",
            "Epoch :  4 \t Batch :  22 \t loss : 0.019185606390237808\n",
            "Epoch :  4 \t Batch :  23 \t loss : 0.0684160441160202\n",
            "Epoch :  4 \t Batch :  24 \t loss : 0.09537674486637115\n",
            "Epoch :  4 \t Batch :  25 \t loss : 0.043001480400562286\n",
            "Epoch :  4 \t Batch :  26 \t loss : 0.028612708672881126\n",
            "Epoch :  4 \t Batch :  27 \t loss : 0.019271086901426315\n",
            "Epoch :  4 \t Batch :  28 \t loss : 0.032585904002189636\n",
            "Epoch :  4 \t Batch :  29 \t loss : 0.022288333624601364\n",
            "Epoch :  4 \t Batch :  30 \t loss : 0.09303057193756104\n",
            "Epoch :  4 \t Batch :  31 \t loss : 0.008205928839743137\n",
            "Epoch :  4 \t Batch :  32 \t loss : 0.022610792890191078\n",
            "Epoch :  4 \t Batch :  33 \t loss : 0.0472831055521965\n",
            "Epoch :  4 \t Batch :  34 \t loss : 0.031210919842123985\n",
            "Epoch :  4 \t Batch :  35 \t loss : 0.06786550581455231\n",
            "Epoch :  4 \t Batch :  36 \t loss : 0.09000366926193237\n",
            "Epoch :  4 \t Batch :  37 \t loss : 0.0474010705947876\n",
            "Epoch :  4 \t Batch :  38 \t loss : 0.02690093219280243\n",
            "Epoch :  4 \t Batch :  39 \t loss : 0.0682087168097496\n",
            "Epoch :  4 \t Batch :  40 \t loss : 0.023923976346850395\n",
            "Epoch :  4 \t Batch :  41 \t loss : 0.0749124139547348\n",
            "Epoch :  4 \t Batch :  42 \t loss : 0.04209787771105766\n",
            "Epoch :  4 \t Batch :  43 \t loss : 0.048816729336977005\n",
            "Epoch :  4 \t Batch :  44 \t loss : 0.053011704236269\n",
            "Epoch :  4 \t Batch :  45 \t loss : 0.0445471815764904\n",
            "Epoch :  5 \t Batch :  1 \t loss : 0.0752859115600586\n",
            "Epoch :  5 \t Batch :  2 \t loss : 0.11268230527639389\n",
            "Epoch :  5 \t Batch :  3 \t loss : 0.045871585607528687\n",
            "Epoch :  5 \t Batch :  4 \t loss : 0.10313683748245239\n",
            "Epoch :  5 \t Batch :  5 \t loss : 0.0894956886768341\n",
            "Epoch :  5 \t Batch :  6 \t loss : 0.09739197045564651\n",
            "Epoch :  5 \t Batch :  7 \t loss : 0.07821178436279297\n",
            "Epoch :  5 \t Batch :  8 \t loss : 0.075116366147995\n",
            "Epoch :  5 \t Batch :  9 \t loss : 0.0720701664686203\n",
            "Epoch :  5 \t Batch :  10 \t loss : 0.08991682529449463\n",
            "Epoch :  5 \t Batch :  11 \t loss : 0.07359826564788818\n",
            "Epoch :  5 \t Batch :  12 \t loss : 0.08519834280014038\n",
            "Epoch :  5 \t Batch :  13 \t loss : 0.048030443489551544\n",
            "Epoch :  5 \t Batch :  14 \t loss : 0.021099407225847244\n",
            "Epoch :  5 \t Batch :  15 \t loss : 0.024266766384243965\n",
            "Epoch :  5 \t Batch :  16 \t loss : 0.05924217030405998\n",
            "Epoch :  5 \t Batch :  17 \t loss : 0.051306791603565216\n",
            "Epoch :  5 \t Batch :  18 \t loss : 0.09119108319282532\n",
            "Epoch :  5 \t Batch :  19 \t loss : 0.13441814482212067\n",
            "Epoch :  5 \t Batch :  20 \t loss : 0.19208131730556488\n",
            "Epoch :  5 \t Batch :  21 \t loss : 0.19901564717292786\n",
            "Epoch :  5 \t Batch :  22 \t loss : 0.3040016293525696\n",
            "Epoch :  5 \t Batch :  23 \t loss : 0.4063397943973541\n",
            "Epoch :  5 \t Batch :  24 \t loss : 0.27627336978912354\n",
            "Epoch :  5 \t Batch :  25 \t loss : 0.18207797408103943\n",
            "Epoch :  5 \t Batch :  26 \t loss : 0.18517076969146729\n",
            "Epoch :  5 \t Batch :  27 \t loss : 0.1394329071044922\n",
            "Epoch :  5 \t Batch :  28 \t loss : 0.0981362909078598\n",
            "Epoch :  5 \t Batch :  29 \t loss : 0.06727397441864014\n",
            "Epoch :  5 \t Batch :  30 \t loss : 0.11861462891101837\n",
            "Epoch :  5 \t Batch :  31 \t loss : 0.09220593422651291\n",
            "Epoch :  5 \t Batch :  32 \t loss : 0.05839358642697334\n",
            "Epoch :  5 \t Batch :  33 \t loss : 0.12539330124855042\n",
            "Epoch :  5 \t Batch :  34 \t loss : 0.06813838332891464\n",
            "Epoch :  5 \t Batch :  35 \t loss : 0.1608884632587433\n",
            "Epoch :  5 \t Batch :  36 \t loss : 0.059705864638090134\n",
            "Epoch :  5 \t Batch :  37 \t loss : 0.05598444864153862\n",
            "Epoch :  5 \t Batch :  38 \t loss : 0.04030681401491165\n",
            "Epoch :  5 \t Batch :  39 \t loss : 0.009576666168868542\n",
            "Epoch :  5 \t Batch :  40 \t loss : 0.02478482946753502\n",
            "Epoch :  5 \t Batch :  41 \t loss : 0.028757110238075256\n",
            "Epoch :  5 \t Batch :  42 \t loss : 0.02069050259888172\n",
            "Epoch :  5 \t Batch :  43 \t loss : 0.020702142268419266\n",
            "Epoch :  5 \t Batch :  44 \t loss : 0.02796403504908085\n",
            "Epoch :  5 \t Batch :  45 \t loss : 0.0183009784668684\n",
            "Epoch :  6 \t Batch :  1 \t loss : 0.03417915105819702\n",
            "Epoch :  6 \t Batch :  2 \t loss : 0.020244944840669632\n",
            "Epoch :  6 \t Batch :  3 \t loss : 0.013100804761052132\n",
            "Epoch :  6 \t Batch :  4 \t loss : 0.02707161381840706\n",
            "Epoch :  6 \t Batch :  5 \t loss : 0.03953547030687332\n",
            "Epoch :  6 \t Batch :  6 \t loss : 0.059368543326854706\n",
            "Epoch :  6 \t Batch :  7 \t loss : 0.029505446553230286\n",
            "Epoch :  6 \t Batch :  8 \t loss : 0.010538982227444649\n",
            "Epoch :  6 \t Batch :  9 \t loss : 0.0433550700545311\n",
            "Epoch :  6 \t Batch :  10 \t loss : 0.0495605431497097\n",
            "Epoch :  6 \t Batch :  11 \t loss : 0.06394900381565094\n",
            "Epoch :  6 \t Batch :  12 \t loss : 0.07607525587081909\n",
            "Epoch :  6 \t Batch :  13 \t loss : 0.02802981808781624\n",
            "Epoch :  6 \t Batch :  14 \t loss : 0.033439796417951584\n",
            "Epoch :  6 \t Batch :  15 \t loss : 0.014818625524640083\n",
            "Epoch :  6 \t Batch :  16 \t loss : 0.025250006467103958\n",
            "Epoch :  6 \t Batch :  17 \t loss : 0.038103003054857254\n",
            "Epoch :  6 \t Batch :  18 \t loss : 0.03236968070268631\n",
            "Epoch :  6 \t Batch :  19 \t loss : 0.01996428146958351\n",
            "Epoch :  6 \t Batch :  20 \t loss : 0.018489180132746696\n",
            "Epoch :  6 \t Batch :  21 \t loss : 0.06112081930041313\n",
            "Epoch :  6 \t Batch :  22 \t loss : 0.05423114448785782\n",
            "Epoch :  6 \t Batch :  23 \t loss : 0.07131733745336533\n",
            "Epoch :  6 \t Batch :  24 \t loss : 0.07475163042545319\n",
            "Epoch :  6 \t Batch :  25 \t loss : 0.03152474761009216\n",
            "Epoch :  6 \t Batch :  26 \t loss : 0.020330289378762245\n",
            "Epoch :  6 \t Batch :  27 \t loss : 0.019674699753522873\n",
            "Epoch :  6 \t Batch :  28 \t loss : 0.025952938944101334\n",
            "Epoch :  6 \t Batch :  29 \t loss : 0.03144046291708946\n",
            "Epoch :  6 \t Batch :  30 \t loss : 0.038431424647569656\n",
            "Epoch :  6 \t Batch :  31 \t loss : 0.03515448793768883\n",
            "Epoch :  6 \t Batch :  32 \t loss : 0.021246343851089478\n",
            "Epoch :  6 \t Batch :  33 \t loss : 0.018232760950922966\n",
            "Epoch :  6 \t Batch :  34 \t loss : 0.047786109149456024\n",
            "Epoch :  6 \t Batch :  35 \t loss : 0.056639414280653\n",
            "Epoch :  6 \t Batch :  36 \t loss : 0.060645692050457\n",
            "Epoch :  6 \t Batch :  37 \t loss : 0.04832612723112106\n"
          ]
        }
      ],
      "metadata": {
        "id": "QQocquG_wCwv",
        "colab": {
          "base_uri": "https://localhost:8080/"
        },
        "outputId": "ce6f81af-fafc-4a2d-d2bb-17c33cdd5f64"
      }
    },
    {
      "cell_type": "code",
      "execution_count": null,
      "source": [
        "# Plotting the training and validation loss\r\n",
        "plt.plot(train_losses, label='Training loss')\r\n",
        "plt.plot(val_losses, label='Validation loss')\r\n",
        "plt.legend()\r\n",
        "plt.show()"
      ],
      "outputs": [],
      "metadata": {
        "id": "85ZWc71BwIX-"
      }
    },
    {
      "cell_type": "markdown",
      "source": [
        "#save model"
      ],
      "metadata": {
        "id": "hH30OOnQ0Gdr"
      }
    },
    {
      "cell_type": "markdown",
      "source": [
        "###onnx"
      ],
      "metadata": {
        "id": "u1SSXQvtGaf1"
      }
    },
    {
      "cell_type": "code",
      "execution_count": null,
      "source": [
        "torch.from_numpy(np.array([checker[0]/127.5]).astype(np.float32)).dtype"
      ],
      "outputs": [],
      "metadata": {
        "id": "Y4uTU77-2R11"
      }
    },
    {
      "cell_type": "code",
      "execution_count": null,
      "source": [
        "torch.onnx.export(model, torch.from_numpy(np.array([checker[0]]).astype(np.float32)), \"cnn.onnx\", export_params=True, opset_version=10, do_constant_folding=True, input_names = ['input'], output_names = ['output'])\r\n",
        "onnx_model = onnx.load(\"cnn.onnx\")\r\n",
        "onnx.checker.check_model(onnx_model)"
      ],
      "outputs": [],
      "metadata": {
        "id": "e1byc6XncgSP"
      }
    },
    {
      "cell_type": "code",
      "execution_count": null,
      "source": [
        "ort_session = onnxruntime.InferenceSession(\"cnn.onnx\")\r\n",
        "\r\n",
        "# compute ONNX Runtime output prediction\r\n",
        "ort_inputs = {ort_session.get_inputs()[0].name: np.array([checker[0].astype(np.float32)])}\r\n",
        "ort_outs = ort_session.run(None, ort_inputs)\r\n",
        "\r\n",
        "print(ort_outs[0][0][0])\r\n",
        "print(checker[1][0].item())"
      ],
      "outputs": [],
      "metadata": {
        "id": "ACEcUeDp0lAU"
      }
    },
    {
      "cell_type": "markdown",
      "source": [
        "###pt"
      ],
      "metadata": {
        "id": "VFFbCaRWFv40"
      }
    },
    {
      "cell_type": "code",
      "execution_count": null,
      "source": [
        "torch.save(model, 'cnn.pt')\r\n",
        "model2 = torch.load('cnn.pt')\r\n",
        "model2.eval()"
      ],
      "outputs": [],
      "metadata": {
        "id": "cUebZM25F7M_"
      }
    }
  ]
}